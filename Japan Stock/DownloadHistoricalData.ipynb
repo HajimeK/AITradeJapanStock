{
 "cells": [
  {
   "cell_type": "code",
   "execution_count": 1,
   "metadata": {},
   "outputs": [],
   "source": [
    "import pandas as pd\n",
    "import requests\n",
    "import random\n",
    "import time\n",
    "from pytz import timezone\n",
    "import tqdm\n",
    "\n",
    "\n",
    "import os"
   ]
  },
  {
   "cell_type": "code",
   "execution_count": 3,
   "metadata": {},
   "outputs": [],
   "source": [
    "\n",
    "from selenium import webdriver\n",
    "from selenium.webdriver.firefox.options import Options\n",
    "from bs4 import BeautifulSoup\n",
    "import re"
   ]
  },
  {
   "cell_type": "code",
   "execution_count": 4,
   "metadata": {},
   "outputs": [],
   "source": [
    "nikkei255 = pd.read_csv('./nikkei255.csv', index_col=0)"
   ]
  },
  {
   "cell_type": "code",
   "execution_count": 5,
   "metadata": {},
   "outputs": [
    {
     "data": {
      "text/html": [
       "<div>\n",
       "<style scoped>\n",
       "    .dataframe tbody tr th:only-of-type {\n",
       "        vertical-align: middle;\n",
       "    }\n",
       "\n",
       "    .dataframe tbody tr th {\n",
       "        vertical-align: top;\n",
       "    }\n",
       "\n",
       "    .dataframe thead th {\n",
       "        text-align: right;\n",
       "    }\n",
       "</style>\n",
       "<table border=\"1\" class=\"dataframe\">\n",
       "  <thead>\n",
       "    <tr style=\"text-align: right;\">\n",
       "      <th></th>\n",
       "      <th>name</th>\n",
       "      <th>sector</th>\n",
       "    </tr>\n",
       "    <tr>\n",
       "      <th>code</th>\n",
       "      <th></th>\n",
       "      <th></th>\n",
       "    </tr>\n",
       "  </thead>\n",
       "  <tbody>\n",
       "    <tr>\n",
       "      <th>2002</th>\n",
       "      <td>日清製粉グループ本社</td>\n",
       "      <td>食品</td>\n",
       "    </tr>\n",
       "    <tr>\n",
       "      <th>2269</th>\n",
       "      <td>明治ホールディングス</td>\n",
       "      <td>食品</td>\n",
       "    </tr>\n",
       "    <tr>\n",
       "      <th>2282</th>\n",
       "      <td>日本ハム</td>\n",
       "      <td>食品</td>\n",
       "    </tr>\n",
       "    <tr>\n",
       "      <th>2501</th>\n",
       "      <td>サッポロホールディングス</td>\n",
       "      <td>食品</td>\n",
       "    </tr>\n",
       "    <tr>\n",
       "      <th>2502</th>\n",
       "      <td>アサヒグループホールディングス</td>\n",
       "      <td>食品</td>\n",
       "    </tr>\n",
       "  </tbody>\n",
       "</table>\n",
       "</div>"
      ],
      "text/plain": [
       "                 name sector\n",
       "code                        \n",
       "2002       日清製粉グループ本社     食品\n",
       "2269       明治ホールディングス     食品\n",
       "2282             日本ハム     食品\n",
       "2501     サッポロホールディングス     食品\n",
       "2502  アサヒグループホールディングス     食品"
      ]
     },
     "execution_count": 5,
     "metadata": {},
     "output_type": "execute_result"
    }
   ],
   "source": [
    "nikkei255.head()"
   ]
  },
  {
   "cell_type": "markdown",
   "metadata": {},
   "source": [
    "## Set up Selenium"
   ]
  },
  {
   "cell_type": "code",
   "execution_count": 6,
   "metadata": {},
   "outputs": [
    {
     "data": {
      "text/plain": [
       "'/home/hajime/git/AITradingND/Japan Stock/data/daily'"
      ]
     },
     "execution_count": 6,
     "metadata": {},
     "output_type": "execute_result"
    }
   ],
   "source": [
    "os.environ['CSVDIR'] + '/daily'"
   ]
  },
  {
   "cell_type": "code",
   "execution_count": 8,
   "metadata": {
    "tags": []
   },
   "outputs": [],
   "source": [
    "from selenium import webdriver\n",
    "from selenium.webdriver.firefox.options import Options\n",
    "from bs4 import BeautifulSoup\n",
    "import re\n",
    "\n",
    "options = Options()\n",
    "options.binary_location = '/usr/bin/firefox'\n",
    "#options.add_argument('-headless')\n",
    "profile = webdriver.FirefoxProfile()\n",
    "profile.set_preference('browser.download.folderList', 2) # custom location\n",
    "profile.set_preference('browser.download.manager.showWhenStarting', False)\n",
    "profile.set_preference('browser.download.dir', os.environ['CSVDIR'] + '/daily')\n",
    "profile.set_preference(\"browser.download.manager.alertOnEXEOpen\", False)\n",
    "profile.set_preference(\"browser.download.manager.closeWhenDone\", True)\n",
    "profile.set_preference(\"browser.download.manager.focusWhenStarting\", False)\n",
    "#application/octet-stream,application/vnd.ms-excel \n",
    "profile.set_preference('browser.helperApps.neverAsk.saveToDisk', 'text/csv')\n",
    "driver = webdriver.Firefox(firefox_profile=profile, options=options)"
   ]
  },
  {
   "cell_type": "markdown",
   "metadata": {},
   "source": [
    "## Access login page"
   ]
  },
  {
   "cell_type": "code",
   "execution_count": 9,
   "metadata": {},
   "outputs": [],
   "source": [
    "driver.get('https://www.yahoo.co.jp/')\n",
    "source = driver.page_source\n",
    "soup = BeautifulSoup(source,'html.parser')\n",
    "element = driver.find_element_by_link_text(\"ログイン\")\n",
    "element.click()\n",
    "time.sleep(2)"
   ]
  },
  {
   "cell_type": "markdown",
   "metadata": {},
   "source": [
    "### Load user credentials"
   ]
  },
  {
   "cell_type": "code",
   "execution_count": 10,
   "metadata": {},
   "outputs": [],
   "source": [
    "credentials = {}\n",
    "with open(\"credential.txt\") as myfile:\n",
    "    for line in myfile:\n",
    "        name, var = line.partition(\"=\")[::2]\n",
    "        credentials[name.strip()] = var.rstrip('\\n')"
   ]
  },
  {
   "cell_type": "markdown",
   "metadata": {},
   "source": [
    "### type user name and move forward"
   ]
  },
  {
   "cell_type": "code",
   "execution_count": 11,
   "metadata": {},
   "outputs": [],
   "source": [
    "element = driver.find_element_by_id(\"username\")\n",
    "element.send_keys(credentials['username'])\n",
    "driver.find_element_by_id(\"btnNext\").click()\n",
    "time.sleep(2)"
   ]
  },
  {
   "cell_type": "markdown",
   "metadata": {},
   "source": [
    "### type password ang move forward"
   ]
  },
  {
   "cell_type": "code",
   "execution_count": 9,
   "metadata": {},
   "outputs": [],
   "source": [
    "element = driver.find_element_by_id(\"passwd\")\n",
    "element.send_keys(credentials[\"passwd\"])\n",
    "driver.find_element_by_id(\"btnSubmit\").click()\n",
    "time.sleep(2)"
   ]
  },
  {
   "cell_type": "markdown",
   "metadata": {},
   "source": [
    "## Open finance page"
   ]
  },
  {
   "cell_type": "code",
   "execution_count": 12,
   "metadata": {},
   "outputs": [],
   "source": [
    "driver.get('http://finance.yahoo.co.jp')"
   ]
  },
  {
   "cell_type": "code",
   "execution_count": 13,
   "metadata": {},
   "outputs": [],
   "source": [
    "driver.set_page_load_timeout(10)"
   ]
  },
  {
   "cell_type": "code",
   "execution_count": 14,
   "metadata": {},
   "outputs": [],
   "source": [
    "#GET /quote/2002.T/history/download HTTP/2\n",
    "Host = 'https://finance.yahoo.co.jp'\n"
   ]
  },
  {
   "cell_type": "code",
   "execution_count": 15,
   "metadata": {
    "tags": []
   },
   "outputs": [],
   "source": [
    "# Yahoo Finance\n",
    "# 日付\t始値\t高値\t安値\t終値\t出来高\t調整後終値*\n",
    "# Zipzline Ingest CSV\n",
    "# date,open,high,low,close,volume,dividend,split\n",
    "def formatDownloadedCSV(csvFile):\n",
    "    rows = []\n",
    "    firstLine = True\n",
    "    with open(filename, encoding=\"shift-jis\") as f:\n",
    "        lines = f.readlines()\n",
    "        for line in lines:\n",
    "            if firstLine:\n",
    "                firstLine = False\n",
    "            else:\n",
    "\n",
    "                # you may also want to remove whitespace characters like `\\n` at the end of each line\n",
    "                items = line.rstrip().split(',')\n",
    "                try:\n",
    "                    rows.append({'date': f'{items[0]}',\n",
    "                                'open': f'{items[1]}',\n",
    "                                'high': f'{items[2]}',\n",
    "                                'low': f'{items[3]}',\n",
    "                                'close': f'{items[6]}',\n",
    "                                'volume': f'{items[5]}',\n",
    "                                'dividend': 0.0,\n",
    "                                'split': 1.0\n",
    "                                })\n",
    "                except:\n",
    "                    pass\n",
    "\n",
    "    df = pd.DataFrame(rows)\n",
    "    dayColumn = pd.to_datetime(df['date']).dt.strftime('%Y/%m/%d')\n",
    "    df = df.set_index(pd.DatetimeIndex(dayColumn)).drop('date', axis = 1)\n",
    "\n",
    "    return df"
   ]
  },
  {
   "cell_type": "code",
   "execution_count": 16,
   "metadata": {
    "tags": []
   },
   "outputs": [
    {
     "name": "stdout",
     "output_type": "stream",
     "text": [
      "2002: 日清製粉グループ本社\n",
      "2269: 明治ホールディングス\n",
      "2282: 日本ハム\n",
      "2501: サッポロホールディングス\n",
      "2502: アサヒグループホールディングス\n",
      "2503: キリンホールディングス\n",
      "2531: 宝ホールディングス\n",
      "2801: キッコーマン\n",
      "2802: 味の素\n",
      "2871: ニチレイ\n",
      "2914: 日本たばこ産業\n",
      "3101: 東洋紡\n",
      "3103: ユニチカ\n",
      "3401: 帝人\n",
      "3402: 東レ\n",
      "3861: 王子ホールディングス\n",
      "3863: 日本製紙\n",
      "3405: クラレ\n",
      "3407: 旭化成\n",
      "4004: 昭和電工\n",
      "4005: 住友化学\n",
      "4021: 日産化学\n",
      "4042: 東ソー\n",
      "4043: トクヤマ\n",
      "4061: デンカ\n",
      "4063: 信越化学工業\n",
      "4183: 三井化学\n",
      "4188: 三菱ケミカルホールディングス\n",
      "4208: 宇部興産\n",
      "4452: 花王\n",
      "4631: DIC\n",
      "4901: 富士フイルムホールディングス\n",
      "4911: 資生堂\n",
      "6988: 日東電工\n",
      "4151: 協和発酵キリン\n",
      "4502: 武田薬品工業\n",
      "4503: アステラス製薬\n",
      "4506: 大日本住友製薬\n",
      "4507: 塩野義製薬\n",
      "4519: 中外製薬\n",
      "4523: エーザイ\n",
      "4568: 第一三共\n",
      "4578: 大塚ホールディングス\n",
      "5019: 出光興産\n",
      "5020: ENEOSホールディングス\n",
      "5101: 横浜ゴム\n",
      "5108: ブリヂストン\n",
      "5201: AGC\n",
      "5202: 日本板硝子\n",
      "5214: 日本電気硝子\n",
      "5232: 住友大阪セメント\n",
      "5233: 太平洋セメント\n",
      "5301: 東海カーボン\n",
      "5332: TOTO\n",
      "5333: 日本碍子\n",
      "5401: 日本製鉄\n",
      "5406: 神戸製鋼所\n",
      "5411: JFEホールディングス\n",
      "5541: 大平洋金属\n",
      "3436: SUMCO\n",
      "5703: 日本軽金属ホールディングス\n",
      "5706: 三井金属鉱業\n",
      "5707: 東邦亜鉛\n",
      "5711: 三菱マテリアル\n",
      "5713: 住友金属鉱山\n",
      "5714: DOWAホールディングス\n",
      "5801: 古河電気工業\n",
      "5802: 住友電気工業\n",
      "5803: フジクラ\n",
      "5901: 東洋製罐グループホールディングス\n",
      "5631: 日本製鋼所\n",
      "6103: オークマ\n",
      "6113: アマダ\n",
      "6301: 小松製作所\n",
      "6302: 住友重機械工業\n",
      "6305: 日立建機\n",
      "6326: クボタ\n",
      "6361: 荏原製作所\n",
      "6367: ダイキン工業\n",
      "6471: 日本精工\n",
      "6472: NTN\n",
      "6473: ジェイテクト\n",
      "7004: 日立造船\n",
      "7011: 三菱重工業\n",
      "7013: IHI\n",
      "3105: 日清紡ホールディングス\n",
      "6479: ミネベアミツミ\n",
      "6501: 日立製作所\n",
      "6503: 三菱電機\n",
      "6504: 富士電機\n",
      "6506: 安川電機\n",
      "6645: オムロン\n",
      "6674: ジーエス・ユアサ コーポレーション\n",
      "6701: 日本電気\n",
      "6702: 富士通\n",
      "6703: 沖電気工業\n",
      "6724: セイコーエプソン\n",
      "6752: パナソニック\n",
      "6753: シャープ\n",
      "6758: ソニー\n",
      "6762: TDK\n",
      "6770: アルプスアルパイン\n",
      "6841: 横河電機\n",
      "6857: アドバンテスト\n",
      "6902: デンソー\n",
      "6952: カシオ計算機\n",
      "6954: ファナック\n",
      "6971: 京セラ\n",
      "6976: 太陽誘電\n",
      "7735: SCREENホールディングス\n",
      "7751: キヤノン\n",
      "7752: リコー\n",
      "8035: 東京エレクトロン\n",
      "7003: 三井E&Sホールディングス\n",
      "7012: 川崎重工業\n",
      "7201: 日産自動車\n",
      "7202: いすゞ自動車\n",
      "7203: トヨタ自動車\n",
      "7205: 日野自動車\n",
      "7211: 三菱自動車工業\n",
      "7261: マツダ\n",
      "7267: 本田技研工業\n",
      "7269: スズキ\n",
      "7270: SUBARU\n",
      "7272: ヤマハ発動機\n",
      "4543: テルモ\n",
      "4902: コニカミノルタ\n",
      "7731: ニコン\n",
      "7733: オリンパス\n",
      "7762: シチズン時計\n",
      "7832: バンダイナムコホールディングス\n",
      "7911: 凸版印刷\n",
      "7912: 大日本印刷\n",
      "7951: ヤマハ\n",
      "1332: 日本水産\n",
      "1333: マルハニチロ\n",
      "1605: 国際石油開発帝石\n",
      "1721: コムシスホールディングス\n",
      "1801: 大成建設\n",
      "1802: 大林組\n",
      "1803: 清水建設\n",
      "1808: 長谷工コーポレーション\n",
      "1812: 鹿島建設\n",
      "1925: 大和ハウス工業\n",
      "1928: 積水ハウス\n",
      "1963: 日揮\n",
      "2768: 双日\n",
      "8001: 伊藤忠商事\n",
      "8002: 丸紅\n",
      "8015: 豊田通商\n",
      "8031: 三井物産\n",
      "8053: 住友商事\n",
      "8058: 三菱商事\n",
      "3086: J.フロント リテイリング\n",
      "3099: 三越伊勢丹ホールディングス\n",
      "3382: セブン&アイ・ホールディングス\n",
      "8233: 髙島屋\n",
      "8252: 丸井グループ\n",
      "8267: イオン\n",
      "9983: ファーストリテイリング\n",
      "7186: コンコルディア・フィナンシャルグループ\n",
      "8303: 新生銀行\n",
      "8304: あおぞら銀行\n",
      "8306: 三菱UFJフィナンシャル・グループ\n",
      "8308: りそなホールディングス\n",
      "8309: 三井住友トラスト・ホールディングス\n",
      "8316: 三井住友フィナンシャルグループ\n",
      "8331: 千葉銀行\n",
      "8354: ふくおかフィナンシャルグループ\n",
      "8355: 静岡銀行\n",
      "8411: みずほフィナンシャルグループ\n",
      "8601: 大和証券グループ本社\n",
      "8604: 野村ホールディングス\n",
      "8628: 松井証券\n",
      "8630: SOMPOホールディングス\n",
      "8725: MS&ADインシュアランスグループホールディングス\n",
      "8750: 第一生命ホールディングス\n",
      "8766: 東京海上ホールディングス\n",
      "8795: T&Dホールディングス\n",
      "8253: クレディセゾン\n",
      "8697: 日本取引所グループ\n",
      "3289: 東急不動産ホールディングス\n",
      "8801: 三井不動産\n",
      "8802: 三菱地所\n",
      "8804: 東京建物\n",
      "8830: 住友不動産\n",
      "9001: 東武鉄道\n",
      "9005: 東急\n",
      "9007: 小田急電鉄\n",
      "9008: 京王電鉄\n",
      "9009: 京成電鉄\n",
      "9020: 東日本旅客鉄道\n",
      "9021: 西日本旅客鉄道\n",
      "9022: 東海旅客鉄道\n",
      "9062: 日本通運\n",
      "9064: ヤマトホールディングス\n",
      "9101: 日本郵船\n",
      "9104: 商船三井\n",
      "9107: 川崎汽船\n",
      "9202: ANAホールディングス\n",
      "9301: 三菱倉庫\n",
      "9412: スカパーJSATホールディングス\n",
      "9432: 日本電信電話\n",
      "9433: KDDI\n",
      "9434: ソフトバンク\n",
      "9613: NTTデータ\n",
      "9984: ソフトバンクグループ\n",
      "9501: 東京電力ホールディングス\n",
      "9502: 中部電力\n",
      "9503: 関西電力\n",
      "9531: 東京ガス\n",
      "9532: 大阪ガス\n",
      "2413: エムスリー\n",
      "2432: ディー・エヌ・エー\n",
      "3659: ネクソン\n",
      "4324: 電通グループ\n",
      "4689: Zホールディングス\n",
      "4704: トレンドマイクロ\n",
      "4751: サイバーエージェント\n",
      "4755: 楽天\n",
      "6098: リクルートホールディングス\n",
      "6178: 日本郵政\n",
      "9602: 東宝\n",
      "9735: セコム\n",
      "9766: コナミホールディングス\n",
      "CPU times: user 26.8 s, sys: 238 ms, total: 27 s\n",
      "Wall time: 1h 14min 49s\n"
     ]
    }
   ],
   "source": [
    "%%time\n",
    "for code, company in nikkei255.iterrows():\n",
    "\n",
    "    name = company['name']\n",
    "    print(f'{code}: {name}')\n",
    "    try:\n",
    "        driver.get(Host + f'/quote/{code}.T/history/download')\n",
    "    except:\n",
    "        pass\n",
    "\n",
    "    filename = os.environ['CSVDIR'] + '/daily/' + f'{code}.T.csv'\n",
    "    df = formatDownloadedCSV(filename)\n",
    "    df.to_csv(filename)\n",
    "    \n",
    "    time.sleep(random.randint(5, 15))\n"
   ]
  },
  {
   "cell_type": "code",
   "execution_count": 17,
   "metadata": {},
   "outputs": [],
   "source": [
    "driver.get(\"https://login.yahoo.co.jp/config/login?logout=1\")\n",
    "driver.quit()"
   ]
  },
  {
   "cell_type": "code",
   "execution_count": 18,
   "metadata": {},
   "outputs": [],
   "source": [
    "import glob\n",
    "path = os.path.join(os.environ['CSVDIR'] ,'daily')\n",
    "\n",
    "for code, company in nikkei255.iterrows():\n",
    "    os.rename(os.path.join(path, str(code) + '.T.csv'), os.path.join(path, str(code) + '.csv'))"
   ]
  },
  {
   "cell_type": "code",
   "execution_count": 19,
   "metadata": {
    "tags": [
     "outputPrepend"
    ]
   },
   "outputs": [
    {
     "ename": "FileNotFoundError",
     "evalue": "[Errno 2] No such file or directory: './data/daily/2002.csv'",
     "output_type": "error",
     "traceback": [
      "\u001b[0;31m---------------------------------------------------------------------------\u001b[0m",
      "\u001b[0;31mFileNotFoundError\u001b[0m                         Traceback (most recent call last)",
      "\u001b[0;32m/tmp/ipykernel_4896/3851564949.py\u001b[0m in \u001b[0;36m<module>\u001b[0;34m\u001b[0m\n\u001b[1;32m      1\u001b[0m \u001b[0marr\u001b[0m \u001b[0;34m=\u001b[0m\u001b[0;34m[\u001b[0m\u001b[0;34m]\u001b[0m\u001b[0;34m\u001b[0m\u001b[0;34m\u001b[0m\u001b[0m\n\u001b[1;32m      2\u001b[0m \u001b[0;32mfor\u001b[0m \u001b[0mcode\u001b[0m\u001b[0;34m,\u001b[0m \u001b[0mcompany\u001b[0m \u001b[0;32min\u001b[0m \u001b[0mnikkei255\u001b[0m\u001b[0;34m.\u001b[0m\u001b[0miterrows\u001b[0m\u001b[0;34m(\u001b[0m\u001b[0;34m)\u001b[0m\u001b[0;34m:\u001b[0m\u001b[0;34m\u001b[0m\u001b[0;34m\u001b[0m\u001b[0m\n\u001b[0;32m----> 3\u001b[0;31m     \u001b[0mdf\u001b[0m \u001b[0;34m=\u001b[0m \u001b[0mpd\u001b[0m\u001b[0;34m.\u001b[0m\u001b[0mread_csv\u001b[0m\u001b[0;34m(\u001b[0m\u001b[0;34mf'./data/daily/{code}.csv'\u001b[0m\u001b[0;34m)\u001b[0m\u001b[0;34m\u001b[0m\u001b[0;34m\u001b[0m\u001b[0m\n\u001b[0m\u001b[1;32m      4\u001b[0m     \u001b[0mdate\u001b[0m \u001b[0;34m=\u001b[0m \u001b[0mdf\u001b[0m\u001b[0;34m.\u001b[0m\u001b[0mtail\u001b[0m\u001b[0;34m(\u001b[0m\u001b[0;34m)\u001b[0m\u001b[0;34m[\u001b[0m\u001b[0;34m'date'\u001b[0m\u001b[0;34m]\u001b[0m\u001b[0;34m.\u001b[0m\u001b[0mvalues\u001b[0m\u001b[0;34m[\u001b[0m\u001b[0;36m0\u001b[0m\u001b[0;34m]\u001b[0m\u001b[0;34m\u001b[0m\u001b[0;34m\u001b[0m\u001b[0m\n\u001b[1;32m      5\u001b[0m     \u001b[0marr\u001b[0m\u001b[0;34m.\u001b[0m\u001b[0mappend\u001b[0m\u001b[0;34m(\u001b[0m\u001b[0;34m{\u001b[0m\u001b[0;34m'code'\u001b[0m\u001b[0;34m:\u001b[0m \u001b[0mcode\u001b[0m\u001b[0;34m,\u001b[0m \u001b[0;34m'company'\u001b[0m\u001b[0;34m:\u001b[0m \u001b[0mcompany\u001b[0m\u001b[0;34m,\u001b[0m \u001b[0;34m'date'\u001b[0m\u001b[0;34m:\u001b[0m \u001b[0mdate\u001b[0m\u001b[0;34m}\u001b[0m\u001b[0;34m)\u001b[0m\u001b[0;34m\u001b[0m\u001b[0;34m\u001b[0m\u001b[0m\n",
      "\u001b[0;32m~/anaconda3/lib/python3.8/site-packages/pandas/util/_decorators.py\u001b[0m in \u001b[0;36mwrapper\u001b[0;34m(*args, **kwargs)\u001b[0m\n\u001b[1;32m    309\u001b[0m                     \u001b[0mstacklevel\u001b[0m\u001b[0;34m=\u001b[0m\u001b[0mstacklevel\u001b[0m\u001b[0;34m,\u001b[0m\u001b[0;34m\u001b[0m\u001b[0;34m\u001b[0m\u001b[0m\n\u001b[1;32m    310\u001b[0m                 )\n\u001b[0;32m--> 311\u001b[0;31m             \u001b[0;32mreturn\u001b[0m \u001b[0mfunc\u001b[0m\u001b[0;34m(\u001b[0m\u001b[0;34m*\u001b[0m\u001b[0margs\u001b[0m\u001b[0;34m,\u001b[0m \u001b[0;34m**\u001b[0m\u001b[0mkwargs\u001b[0m\u001b[0;34m)\u001b[0m\u001b[0;34m\u001b[0m\u001b[0;34m\u001b[0m\u001b[0m\n\u001b[0m\u001b[1;32m    312\u001b[0m \u001b[0;34m\u001b[0m\u001b[0m\n\u001b[1;32m    313\u001b[0m         \u001b[0;32mreturn\u001b[0m \u001b[0mwrapper\u001b[0m\u001b[0;34m\u001b[0m\u001b[0;34m\u001b[0m\u001b[0m\n",
      "\u001b[0;32m~/anaconda3/lib/python3.8/site-packages/pandas/io/parsers/readers.py\u001b[0m in \u001b[0;36mread_csv\u001b[0;34m(filepath_or_buffer, sep, delimiter, header, names, index_col, usecols, squeeze, prefix, mangle_dupe_cols, dtype, engine, converters, true_values, false_values, skipinitialspace, skiprows, skipfooter, nrows, na_values, keep_default_na, na_filter, verbose, skip_blank_lines, parse_dates, infer_datetime_format, keep_date_col, date_parser, dayfirst, cache_dates, iterator, chunksize, compression, thousands, decimal, lineterminator, quotechar, quoting, doublequote, escapechar, comment, encoding, encoding_errors, dialect, error_bad_lines, warn_bad_lines, on_bad_lines, delim_whitespace, low_memory, memory_map, float_precision, storage_options)\u001b[0m\n\u001b[1;32m    678\u001b[0m     \u001b[0mkwds\u001b[0m\u001b[0;34m.\u001b[0m\u001b[0mupdate\u001b[0m\u001b[0;34m(\u001b[0m\u001b[0mkwds_defaults\u001b[0m\u001b[0;34m)\u001b[0m\u001b[0;34m\u001b[0m\u001b[0;34m\u001b[0m\u001b[0m\n\u001b[1;32m    679\u001b[0m \u001b[0;34m\u001b[0m\u001b[0m\n\u001b[0;32m--> 680\u001b[0;31m     \u001b[0;32mreturn\u001b[0m \u001b[0m_read\u001b[0m\u001b[0;34m(\u001b[0m\u001b[0mfilepath_or_buffer\u001b[0m\u001b[0;34m,\u001b[0m \u001b[0mkwds\u001b[0m\u001b[0;34m)\u001b[0m\u001b[0;34m\u001b[0m\u001b[0;34m\u001b[0m\u001b[0m\n\u001b[0m\u001b[1;32m    681\u001b[0m \u001b[0;34m\u001b[0m\u001b[0m\n\u001b[1;32m    682\u001b[0m \u001b[0;34m\u001b[0m\u001b[0m\n",
      "\u001b[0;32m~/anaconda3/lib/python3.8/site-packages/pandas/io/parsers/readers.py\u001b[0m in \u001b[0;36m_read\u001b[0;34m(filepath_or_buffer, kwds)\u001b[0m\n\u001b[1;32m    573\u001b[0m \u001b[0;34m\u001b[0m\u001b[0m\n\u001b[1;32m    574\u001b[0m     \u001b[0;31m# Create the parser.\u001b[0m\u001b[0;34m\u001b[0m\u001b[0;34m\u001b[0m\u001b[0;34m\u001b[0m\u001b[0m\n\u001b[0;32m--> 575\u001b[0;31m     \u001b[0mparser\u001b[0m \u001b[0;34m=\u001b[0m \u001b[0mTextFileReader\u001b[0m\u001b[0;34m(\u001b[0m\u001b[0mfilepath_or_buffer\u001b[0m\u001b[0;34m,\u001b[0m \u001b[0;34m**\u001b[0m\u001b[0mkwds\u001b[0m\u001b[0;34m)\u001b[0m\u001b[0;34m\u001b[0m\u001b[0;34m\u001b[0m\u001b[0m\n\u001b[0m\u001b[1;32m    576\u001b[0m \u001b[0;34m\u001b[0m\u001b[0m\n\u001b[1;32m    577\u001b[0m     \u001b[0;32mif\u001b[0m \u001b[0mchunksize\u001b[0m \u001b[0;32mor\u001b[0m \u001b[0miterator\u001b[0m\u001b[0;34m:\u001b[0m\u001b[0;34m\u001b[0m\u001b[0;34m\u001b[0m\u001b[0m\n",
      "\u001b[0;32m~/anaconda3/lib/python3.8/site-packages/pandas/io/parsers/readers.py\u001b[0m in \u001b[0;36m__init__\u001b[0;34m(self, f, engine, **kwds)\u001b[0m\n\u001b[1;32m    931\u001b[0m \u001b[0;34m\u001b[0m\u001b[0m\n\u001b[1;32m    932\u001b[0m         \u001b[0mself\u001b[0m\u001b[0;34m.\u001b[0m\u001b[0mhandles\u001b[0m\u001b[0;34m:\u001b[0m \u001b[0mIOHandles\u001b[0m \u001b[0;34m|\u001b[0m \u001b[0;32mNone\u001b[0m \u001b[0;34m=\u001b[0m \u001b[0;32mNone\u001b[0m\u001b[0;34m\u001b[0m\u001b[0;34m\u001b[0m\u001b[0m\n\u001b[0;32m--> 933\u001b[0;31m         \u001b[0mself\u001b[0m\u001b[0;34m.\u001b[0m\u001b[0m_engine\u001b[0m \u001b[0;34m=\u001b[0m \u001b[0mself\u001b[0m\u001b[0;34m.\u001b[0m\u001b[0m_make_engine\u001b[0m\u001b[0;34m(\u001b[0m\u001b[0mf\u001b[0m\u001b[0;34m,\u001b[0m \u001b[0mself\u001b[0m\u001b[0;34m.\u001b[0m\u001b[0mengine\u001b[0m\u001b[0;34m)\u001b[0m\u001b[0;34m\u001b[0m\u001b[0;34m\u001b[0m\u001b[0m\n\u001b[0m\u001b[1;32m    934\u001b[0m \u001b[0;34m\u001b[0m\u001b[0m\n\u001b[1;32m    935\u001b[0m     \u001b[0;32mdef\u001b[0m \u001b[0mclose\u001b[0m\u001b[0;34m(\u001b[0m\u001b[0mself\u001b[0m\u001b[0;34m)\u001b[0m\u001b[0;34m:\u001b[0m\u001b[0;34m\u001b[0m\u001b[0;34m\u001b[0m\u001b[0m\n",
      "\u001b[0;32m~/anaconda3/lib/python3.8/site-packages/pandas/io/parsers/readers.py\u001b[0m in \u001b[0;36m_make_engine\u001b[0;34m(self, f, engine)\u001b[0m\n\u001b[1;32m   1215\u001b[0m             \u001b[0;31m# \"Union[str, PathLike[str], ReadCsvBuffer[bytes], ReadCsvBuffer[str]]\"\u001b[0m\u001b[0;34m\u001b[0m\u001b[0;34m\u001b[0m\u001b[0;34m\u001b[0m\u001b[0m\n\u001b[1;32m   1216\u001b[0m             \u001b[0;31m# , \"str\", \"bool\", \"Any\", \"Any\", \"Any\", \"Any\", \"Any\"\u001b[0m\u001b[0;34m\u001b[0m\u001b[0;34m\u001b[0m\u001b[0;34m\u001b[0m\u001b[0m\n\u001b[0;32m-> 1217\u001b[0;31m             self.handles = get_handle(  # type: ignore[call-overload]\n\u001b[0m\u001b[1;32m   1218\u001b[0m                 \u001b[0mf\u001b[0m\u001b[0;34m,\u001b[0m\u001b[0;34m\u001b[0m\u001b[0;34m\u001b[0m\u001b[0m\n\u001b[1;32m   1219\u001b[0m                 \u001b[0mmode\u001b[0m\u001b[0;34m,\u001b[0m\u001b[0;34m\u001b[0m\u001b[0;34m\u001b[0m\u001b[0m\n",
      "\u001b[0;32m~/anaconda3/lib/python3.8/site-packages/pandas/io/common.py\u001b[0m in \u001b[0;36mget_handle\u001b[0;34m(path_or_buf, mode, encoding, compression, memory_map, is_text, errors, storage_options)\u001b[0m\n\u001b[1;32m    787\u001b[0m         \u001b[0;32mif\u001b[0m \u001b[0mioargs\u001b[0m\u001b[0;34m.\u001b[0m\u001b[0mencoding\u001b[0m \u001b[0;32mand\u001b[0m \u001b[0;34m\"b\"\u001b[0m \u001b[0;32mnot\u001b[0m \u001b[0;32min\u001b[0m \u001b[0mioargs\u001b[0m\u001b[0;34m.\u001b[0m\u001b[0mmode\u001b[0m\u001b[0;34m:\u001b[0m\u001b[0;34m\u001b[0m\u001b[0;34m\u001b[0m\u001b[0m\n\u001b[1;32m    788\u001b[0m             \u001b[0;31m# Encoding\u001b[0m\u001b[0;34m\u001b[0m\u001b[0;34m\u001b[0m\u001b[0;34m\u001b[0m\u001b[0m\n\u001b[0;32m--> 789\u001b[0;31m             handle = open(\n\u001b[0m\u001b[1;32m    790\u001b[0m                 \u001b[0mhandle\u001b[0m\u001b[0;34m,\u001b[0m\u001b[0;34m\u001b[0m\u001b[0;34m\u001b[0m\u001b[0m\n\u001b[1;32m    791\u001b[0m                 \u001b[0mioargs\u001b[0m\u001b[0;34m.\u001b[0m\u001b[0mmode\u001b[0m\u001b[0;34m,\u001b[0m\u001b[0;34m\u001b[0m\u001b[0;34m\u001b[0m\u001b[0m\n",
      "\u001b[0;31mFileNotFoundError\u001b[0m: [Errno 2] No such file or directory: './data/daily/2002.csv'"
     ]
    }
   ],
   "source": [
    "arr =[]\n",
    "for code, company in nikkei255.iterrows():\n",
    "    df = pd.read_csv(f'./data/daily/{code}.csv')\n",
    "    date = df.tail()['date'].values[0]\n",
    "    arr.append({'code': code, 'company': company, 'date': date})\n",
    "    print(f'{code}: {company} begin date :{date}')\n",
    "    #df.to_csv(f'./data/{code}.csv')\n",
    "df = pd.DataFrame(arr)"
   ]
  },
  {
   "cell_type": "code",
   "execution_count": null,
   "metadata": {},
   "outputs": [],
   "source": [
    "for code, company in nikkei255.iterrows():\n",
    "    df = pd.read_csv(os.path.join(path, str(code) + '.csv'))\n",
    "    df['date'] = pd.to_datetime(df['date'])\n",
    "    df = df[df['date'] > dt.datetime(2019,1,1)]\n",
    "    df = df.set_index('date')\n",
    "    df.to_csv(os.path.join(path, str(code) + '.csv'))"
   ]
  },
  {
   "cell_type": "code",
   "execution_count": null,
   "metadata": {},
   "outputs": [],
   "source": []
  }
 ],
 "metadata": {
  "kernelspec": {
   "display_name": "Python 3.6.13 64-bit ('zipline': conda)",
   "metadata": {
    "interpreter": {
     "hash": "b73ca1fdcad561020383f0b3eaf0f57e48567dd5dc903c282620dd473fa7f23e"
    }
   },
   "name": "python3"
  },
  "language_info": {
   "codemirror_mode": {
    "name": "ipython",
    "version": 3
   },
   "file_extension": ".py",
   "mimetype": "text/x-python",
   "name": "python",
   "nbconvert_exporter": "python",
   "pygments_lexer": "ipython3",
   "version": "3.8.12"
  },
  "orig_nbformat": 2
 },
 "nbformat": 4,
 "nbformat_minor": 2
}

{
 "metadata": {
  "language_info": {
   "codemirror_mode": {
    "name": "ipython",
    "version": 3
   },
   "file_extension": ".py",
   "mimetype": "text/x-python",
   "name": "python",
   "nbconvert_exporter": "python",
   "pygments_lexer": "ipython3",
   "version": "3.6.13-final"
  },
  "orig_nbformat": 2,
  "kernelspec": {
   "name": "python3613jvsc74a57bd042b101e99227ec419e63ff82af37a1af6a2627c342d8ee3edd41a78c96d9d353",
   "display_name": "Python 3.6.13 64-bit ('zipline': conda)"
  },
  "metadata": {
   "interpreter": {
    "hash": "42b101e99227ec419e63ff82af37a1af6a2627c342d8ee3edd41a78c96d9d353"
   }
  }
 },
 "nbformat": 4,
 "nbformat_minor": 2,
 "cells": [
  {
   "cell_type": "code",
   "execution_count": 5,
   "metadata": {},
   "outputs": [],
   "source": [
    "import pandas as pd\n",
    "from zipline.data.bundles import register\n",
    "from zipline.data.bundles.csvdir import csvdir_equities\n",
    "import trading_calendars as tc"
   ]
  },
  {
   "cell_type": "code",
   "execution_count": 6,
   "metadata": {},
   "outputs": [],
   "source": [
    "start_session = pd.Timestamp('2018-4-1', tz='Asia/Tokyo')\n",
    "end_session = pd.Timestamp('2021-3-31', tz='Asia/Tokyo')\n",
    "xtys = tc.get_calendar(\"XTKS\") # Tokyo Stock Exchange https://github.com/quantopian/trading_calendars"
   ]
  },
  {
   "source": [
    "Trading calnedar can be found with the following command. For Tokyo Stock exchanges, there listed up 2 candidates, 'JPX' and 'XTKS'.\n",
    "Whichever works as defined in alias in _default_calendar_aliases."
   ],
   "cell_type": "markdown",
   "metadata": {}
  },
  {
   "cell_type": "code",
   "execution_count": 9,
   "metadata": {},
   "outputs": [
    {
     "output_type": "execute_result",
     "data": {
      "text/plain": [
       "['CME',\n",
       " 'ICE',\n",
       " 'QUANDL',\n",
       " 'CMES',\n",
       " 'XOSL',\n",
       " 'SIX',\n",
       " 'XWBO',\n",
       " 'XTAE',\n",
       " 'NASDAQ',\n",
       " 'CFE',\n",
       " 'OSE',\n",
       " 'XBOM',\n",
       " 'XCSE',\n",
       " 'XSTO',\n",
       " 'NYMEX',\n",
       " 'XAMS',\n",
       " 'XFRA',\n",
       " 'XTAI',\n",
       " 'XPAR',\n",
       " 'XTKS',\n",
       " 'COMEX',\n",
       " 'XSGO',\n",
       " 'NYFE',\n",
       " 'HKEX',\n",
       " 'XKAR',\n",
       " 'XBUE',\n",
       " 'XMEX',\n",
       " 'XHEL',\n",
       " 'XSES',\n",
       " 'XLIS',\n",
       " 'BMF',\n",
       " 'JKT',\n",
       " 'TASE',\n",
       " '24/5',\n",
       " 'XBUD',\n",
       " 'XSWX',\n",
       " 'XHKG',\n",
       " 'XETR',\n",
       " 'XICE',\n",
       " 'IEPA',\n",
       " 'XPHS',\n",
       " 'XBOG',\n",
       " 'us_futures',\n",
       " 'LSE',\n",
       " 'XMOS',\n",
       " 'FWB',\n",
       " 'SSE',\n",
       " 'CSVDIR',\n",
       " 'XTSE',\n",
       " 'XDUB',\n",
       " 'NYSE',\n",
       " 'JPX',\n",
       " '24/7',\n",
       " 'XCBF',\n",
       " 'CBOT',\n",
       " 'XBRU',\n",
       " 'XMAD',\n",
       " 'XBKK',\n",
       " 'XSHG',\n",
       " 'XWAR',\n",
       " 'ICEUS',\n",
       " 'XKLS',\n",
       " 'XNYS',\n",
       " 'BSE',\n",
       " 'XIDX',\n",
       " 'XKRX',\n",
       " 'XLIM',\n",
       " 'ASX',\n",
       " 'XNZE',\n",
       " 'BATS',\n",
       " 'XIST',\n",
       " 'TSX',\n",
       " 'XMIL',\n",
       " 'XPRA',\n",
       " 'XLON',\n",
       " 'XASX',\n",
       " 'BVMF',\n",
       " 'XJSE',\n",
       " 'ASEX']"
      ]
     },
     "metadata": {},
     "execution_count": 9
    }
   ],
   "source": [
    "tc.get_calendar_names()"
   ]
  },
  {
   "cell_type": "code",
   "execution_count": 17,
   "metadata": {},
   "outputs": [
    {
     "output_type": "stream",
     "name": "stderr",
     "text": [
      "/home/hajime/anaconda3/envs/zipline/lib/python3.6/site-packages/ipykernel_launcher.py:7: UserWarning: Overwriting bundle with name 'custom-csvdir-bundle'\n  import sys\n"
     ]
    },
    {
     "output_type": "execute_result",
     "data": {
      "text/plain": [
       "<bound method CSVDIRBundle.ingest of <zipline.data.bundles.csvdir.CSVDIRBundle object at 0x7f307af81da0>>"
      ]
     },
     "metadata": {},
     "execution_count": 17
    }
   ],
   "source": [
    "register(\n",
    "    'custom-csvdir-bundle',\n",
    "    csvdir_equities(['daily'],'./data/dummy',),\n",
    "    calendar_name='JPX', \n",
    "    start_session=start_session,\n",
    "    end_session=end_session,\n",
    "    minutes_per_day=1440\n",
    ")"
   ]
  },
  {
   "source": [
    "export CSVDIR=/home/hajime/git/AITradingND/Japan\\ Stock/data/test <p>\n",
    "zipline ingest -b csvdir <p>"
   ],
   "cell_type": "markdown",
   "metadata": {}
  },
  {
   "cell_type": "code",
   "execution_count": 29,
   "metadata": {},
   "outputs": [
    {
     "output_type": "stream",
     "name": "stderr",
     "text": [
      "/home/hajime/git/src/zipline-trader/zipline/__init__.py:46: UserWarning: Found TradingCalendar instances after zipline import.\nZipline startup will be much slower until this is fixed!\n  \"Found TradingCalendar instances after zipline import.\\n\"\n"
     ]
    }
   ],
   "source": [
    "%reload_ext zipline"
   ]
  },
  {
   "cell_type": "code",
   "execution_count": 35,
   "metadata": {},
   "outputs": [
    {
     "output_type": "stream",
     "name": "stdout",
     "text": [
      "/bin/bash: zipline: command not found\n"
     ]
    }
   ],
   "source": [
    "!zipline run -f ./zipline/test.py --bundle csvdir --start 2000-1-1 --end 2001-1-1"
   ]
  },
  {
   "cell_type": "code",
   "execution_count": null,
   "metadata": {},
   "outputs": [],
   "source": []
  }
 ]
}